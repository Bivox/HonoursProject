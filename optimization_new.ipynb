{
 "cells": [
  {
   "cell_type": "code",
   "execution_count": 1,
   "id": "fceed134",
   "metadata": {},
   "outputs": [
    {
     "name": "stderr",
     "output_type": "stream",
     "text": [
      "/Library/Frameworks/Python.framework/Versions/3.8/lib/python3.8/site-packages/theano/configdefaults.py:560: UserWarning: DeprecationWarning: there is no c++ compiler.This is deprecated and with Theano 0.11 a c++ compiler will be mandatory\n",
      "  warnings.warn(\"DeprecationWarning: there is no c++ compiler.\"\n",
      "WARNING (theano.configdefaults): g++ not detected ! Theano will be unable to execute optimized C-implementations (for both CPU and GPU) and will default to Python implementations. Performance will be severely degraded. To remove this warning, set Theano flags cxx to an empty string.\n",
      "WARNING (theano.tensor.blas): Using NumPy C-API based implementation for BLAS functions.\n"
     ]
    }
   ],
   "source": [
    "import numpy as np\n",
    "import random as r\n",
    "import pandas as pd\n",
    "import math\n",
    "from neupy import algorithms\n",
    "from neupy.layers import *\n",
    "\n",
    "import matplotlib.pyplot as plt\n",
    "\n",
    "# https://machinelearningmastery.com/how-to-improve-neural-network-stability-and-modeling-performance-with-data-scaling/\n",
    "# demonstrate data normalization with sklearn\n",
    "from sklearn.preprocessing import MinMaxScaler\n",
    "\n",
    "# split the large dataset into train and test\n",
    "from sklearn.model_selection import train_test_split\n",
    "# Import the Logistic Regression model from scikit and matplot\n",
    "from sklearn.naive_bayes import MultinomialNB\n",
    "\n",
    "from sklearn.metrics import mean_squared_error, r2_score\n",
    "\n",
    "from sklearn import linear_model\n",
    "\n",
    "from tensorflow.keras import datasets, layers, models"
   ]
  },
  {
   "cell_type": "code",
   "execution_count": 2,
   "id": "43607490",
   "metadata": {},
   "outputs": [],
   "source": [
    "#creates an empty dataframe\n",
    "# (nbr of input columns (x1,...xn), nbr of output columns(y1,....yn))\n",
    "def create_df_col_names(cols_in,cols_out):\n",
    "    col_names=[]\n",
    "    x='x'\n",
    "    y='y'\n",
    "    #input columns\n",
    "    for i in range(1,cols_in+1):\n",
    "       x='x'\n",
    "       x+=str(i)\n",
    "       col_names.append(x)\n",
    "       \n",
    "   #output columns\n",
    "    for i in range(1,cols_out+1):\n",
    "       y='y'\n",
    "       y+=str(i)\n",
    "       col_names.append(y)\n",
    "    return col_names"
   ]
  },
  {
   "cell_type": "code",
   "execution_count": 3,
   "id": "edc11902",
   "metadata": {},
   "outputs": [
    {
     "name": "stdout",
     "output_type": "stream",
     "text": [
      "['x1', 'x2', 'y1']\n"
     ]
    }
   ],
   "source": [
    "col_names=[]\n",
    "nbr_inputs=2\n",
    "nbr_outputs=1\n",
    "n_rows=5000\n",
    "col_names=create_df_col_names(nbr_inputs,nbr_outputs)\n",
    "print(col_names)"
   ]
  },
  {
   "cell_type": "code",
   "execution_count": 4,
   "id": "615a024f",
   "metadata": {},
   "outputs": [],
   "source": [
    "df_obj = pd.DataFrame(columns=col_names)"
   ]
  },
  {
   "cell_type": "code",
   "execution_count": 5,
   "id": "bbc287ac",
   "metadata": {},
   "outputs": [
    {
     "data": {
      "text/plain": [
       "x1    object\n",
       "x2    object\n",
       "y1    object\n",
       "dtype: object"
      ]
     },
     "execution_count": 5,
     "metadata": {},
     "output_type": "execute_result"
    }
   ],
   "source": [
    "df_obj.dtypes"
   ]
  },
  {
   "cell_type": "code",
   "execution_count": 6,
   "id": "ebe5662f",
   "metadata": {},
   "outputs": [],
   "source": [
    "def generate_random_inputs():\n",
    "    \"Apply the given distribution to each row\"\n",
    "# For random samples from N(\\mu, \\sigma^2), use:\n",
    "# default: (mu, sd)=(0,1)\n",
    "#   sigma * np.random.randn(...) + mu \n",
    "    return ( 2.5 * np.random.randn(n_rows,nbr_inputs) + 3 )\n",
    "\n",
    "\n",
    "table_in=generate_random_inputs()\n",
    "#type(table_in)\n",
    "#print(table_in)"
   ]
  },
  {
   "cell_type": "code",
   "execution_count": 7,
   "id": "bf60e699",
   "metadata": {},
   "outputs": [
    {
     "data": {
      "text/plain": [
       "0    0.0\n",
       "1    0.0\n",
       "2    0.0\n",
       "3    0.0\n",
       "4    0.0\n",
       "Name: y1, dtype: float64"
      ]
     },
     "execution_count": 7,
     "metadata": {},
     "output_type": "execute_result"
    }
   ],
   "source": [
    "#filling the dataframe\n",
    "i=0\n",
    "for x in col_names:\n",
    "    if i<nbr_inputs:\n",
    "        df_obj[x]=table_in[:,i]\n",
    "    i+=1\n",
    "for y in col_names[nbr_inputs:]: \n",
    "    df_obj[y] = df_obj[y].fillna(0.0)\n",
    "df_obj['y1'].head()"
   ]
  },
  {
   "cell_type": "code",
   "execution_count": 8,
   "id": "aee70b16",
   "metadata": {},
   "outputs": [
    {
     "data": {
      "text/plain": [
       "0       0.0\n",
       "1       0.0\n",
       "2       0.0\n",
       "3       0.0\n",
       "4       0.0\n",
       "       ... \n",
       "4995    0.0\n",
       "4996    0.0\n",
       "4997    0.0\n",
       "4998    0.0\n",
       "4999    0.0\n",
       "Name: y1, Length: 5000, dtype: float64"
      ]
     },
     "execution_count": 8,
     "metadata": {},
     "output_type": "execute_result"
    }
   ],
   "source": [
    "df_obj[col_names[nbr_inputs]]\n",
    "#df_obj[col_names[nbr_inputs]]=0.2206365 * df_obj[col_names[0]] *(1-1.35*math.exp(-0.18*( df_obj[col_names[1]] / df_obj[col_names[2]] )^1.39)) #L"
   ]
  },
  {
   "cell_type": "code",
   "execution_count": 9,
   "id": "9a3ab852",
   "metadata": {},
   "outputs": [
    {
     "data": {
      "text/html": [
       "<div>\n",
       "<style scoped>\n",
       "    .dataframe tbody tr th:only-of-type {\n",
       "        vertical-align: middle;\n",
       "    }\n",
       "\n",
       "    .dataframe tbody tr th {\n",
       "        vertical-align: top;\n",
       "    }\n",
       "\n",
       "    .dataframe thead th {\n",
       "        text-align: right;\n",
       "    }\n",
       "</style>\n",
       "<table border=\"1\" class=\"dataframe\">\n",
       "  <thead>\n",
       "    <tr style=\"text-align: right;\">\n",
       "      <th></th>\n",
       "      <th>x1</th>\n",
       "      <th>x2</th>\n",
       "      <th>y1</th>\n",
       "    </tr>\n",
       "  </thead>\n",
       "  <tbody>\n",
       "    <tr>\n",
       "      <th>0</th>\n",
       "      <td>1.359179</td>\n",
       "      <td>-1.358905</td>\n",
       "      <td>-8.469386</td>\n",
       "    </tr>\n",
       "    <tr>\n",
       "      <th>1</th>\n",
       "      <td>2.078107</td>\n",
       "      <td>2.404094</td>\n",
       "      <td>75.708646</td>\n",
       "    </tr>\n",
       "    <tr>\n",
       "      <th>2</th>\n",
       "      <td>4.751854</td>\n",
       "      <td>3.595996</td>\n",
       "      <td>246.757964</td>\n",
       "    </tr>\n",
       "    <tr>\n",
       "      <th>3</th>\n",
       "      <td>-0.856865</td>\n",
       "      <td>4.033499</td>\n",
       "      <td>325.536752</td>\n",
       "    </tr>\n",
       "    <tr>\n",
       "      <th>4</th>\n",
       "      <td>1.401880</td>\n",
       "      <td>8.932142</td>\n",
       "      <td>3567.378260</td>\n",
       "    </tr>\n",
       "  </tbody>\n",
       "</table>\n",
       "</div>"
      ],
      "text/plain": [
       "         x1        x2           y1\n",
       "0  1.359179 -1.358905    -8.469386\n",
       "1  2.078107  2.404094    75.708646\n",
       "2  4.751854  3.595996   246.757964\n",
       "3 -0.856865  4.033499   325.536752\n",
       "4  1.401880  8.932142  3567.378260"
      ]
     },
     "execution_count": 9,
     "metadata": {},
     "output_type": "execute_result"
    }
   ],
   "source": [
    "def generate_outputs_with_func():\n",
    "  '''Generates the necessary outputs based  on teh given formula\n",
    "  '''\n",
    "  df_obj[col_names[nbr_inputs]]=3* df_obj[col_names[0]] +5* df_obj[col_names[1]]**3\n",
    "  \n",
    "#generate outputs\n",
    "generate_outputs_with_func()\n",
    "df_obj.head()\n",
    "#df_obj['y1'].max()"
   ]
  },
  {
   "cell_type": "code",
   "execution_count": 10,
   "id": "d5b90e2b",
   "metadata": {},
   "outputs": [
    {
     "data": {
      "text/html": [
       "<div>\n",
       "<style scoped>\n",
       "    .dataframe tbody tr th:only-of-type {\n",
       "        vertical-align: middle;\n",
       "    }\n",
       "\n",
       "    .dataframe tbody tr th {\n",
       "        vertical-align: top;\n",
       "    }\n",
       "\n",
       "    .dataframe thead th {\n",
       "        text-align: right;\n",
       "    }\n",
       "</style>\n",
       "<table border=\"1\" class=\"dataframe\">\n",
       "  <thead>\n",
       "    <tr style=\"text-align: right;\">\n",
       "      <th></th>\n",
       "      <th>x1</th>\n",
       "      <th>x2</th>\n",
       "    </tr>\n",
       "  </thead>\n",
       "  <tbody>\n",
       "    <tr>\n",
       "      <th>0</th>\n",
       "      <td>0.450410</td>\n",
       "      <td>0.253088</td>\n",
       "    </tr>\n",
       "    <tr>\n",
       "      <th>1</th>\n",
       "      <td>0.485397</td>\n",
       "      <td>0.464748</td>\n",
       "    </tr>\n",
       "    <tr>\n",
       "      <th>2</th>\n",
       "      <td>0.615515</td>\n",
       "      <td>0.531790</td>\n",
       "    </tr>\n",
       "    <tr>\n",
       "      <th>3</th>\n",
       "      <td>0.342566</td>\n",
       "      <td>0.556399</td>\n",
       "    </tr>\n",
       "    <tr>\n",
       "      <th>4</th>\n",
       "      <td>0.452488</td>\n",
       "      <td>0.831937</td>\n",
       "    </tr>\n",
       "  </tbody>\n",
       "</table>\n",
       "</div>"
      ],
      "text/plain": [
       "         x1        x2\n",
       "0  0.450410  0.253088\n",
       "1  0.485397  0.464748\n",
       "2  0.615515  0.531790\n",
       "3  0.342566  0.556399\n",
       "4  0.452488  0.831937"
      ]
     },
     "execution_count": 10,
     "metadata": {},
     "output_type": "execute_result"
    },
    {
     "data": {
      "image/png": "[encoded data removed]",
      "text/plain": [
       "<Figure size 432x288 with 1 Axes>"
      ]
     },
     "metadata": {
      "needs_background": "light"
     },
     "output_type": "display_data"
    }
   ],
   "source": [
    "def lin_scale_df_inputs(x_bar_min,x_bar_max):\n",
    "    '''\n",
    "    Returns a scaled df within the given interval [x_bar_min,x_bar_max]\n",
    "    Scaling the input columns using the linear scaling formula\n",
    "    '''\n",
    "    df_scaled=df_obj.copy()\n",
    "    df_scaled.pop('y1').values\n",
    "    for i in col_names[:nbr_inputs]:\n",
    "        col_max=df_obj[i].max()\n",
    "        col_min=df_obj[i].min()\n",
    "        df_scaled[i]= x_bar_min + ((df_obj[i] - col_min) / (col_max - col_min)) * (x_bar_max - x_bar_min)\n",
    "    return df_scaled\n",
    "\n",
    "#linear scaling [-0.5,0.5]\n",
    "df_lin_scaled_in=lin_scale_df_inputs(0,1)\n",
    "# Density of inputs after linear scaling\n",
    "df_lin_scaled_in['x1'].plot.density() # blue\n",
    "df_lin_scaled_in['x2'].plot.density() # red\n",
    "df_lin_scaled_in.head()"
   ]
  },
  {
   "cell_type": "code",
   "execution_count": 11,
   "id": "62e608b7",
   "metadata": {},
   "outputs": [],
   "source": [
    "def lin_descale(df_scaled):\n",
    "    '''\n",
    "    Returns a scaled df within the given interval [x_bar_min,x_bar_max]\n",
    "    Scaling the input columns using the linear scaling formula\n",
    "    '''\n",
    "    df_descaled=df_scaled.copy()\n",
    "    for i in col_names[:nbr_inputs]:\n",
    "        col_max=df_obj[i].max()\n",
    "        col_min=df_obj[i].min()\n",
    "        x_bar_max=df_scaled[i].max()\n",
    "        x_bar_min=df_scaled[i].min()\n",
    "        df_descaled[i]=((df_scaled[i]-x_bar_min)*(col_max - col_min)) / (x_bar_max - x_bar_min) + col_min\n",
    "    return df_descaled\n",
    "\n",
    "#linear scaling [-0.5,0.5]\n",
    "#df_lin_descaled_x=lin_descale(df_lin_scaled_in)\n",
    "# Density of inputs after linear scaling\n",
    "#df_lin_descaled_x['x1'].plot.density() # blue\n",
    "#df_lin_descaled_x['x2'].plot.density() # red\n",
    "#df_lin_descaled_x.head()\n"
   ]
  },
  {
   "cell_type": "code",
   "execution_count": 12,
   "id": "9809ed52",
   "metadata": {},
   "outputs": [
    {
     "data": {
      "text/html": [
       "<div>\n",
       "<style scoped>\n",
       "    .dataframe tbody tr th:only-of-type {\n",
       "        vertical-align: middle;\n",
       "    }\n",
       "\n",
       "    .dataframe tbody tr th {\n",
       "        vertical-align: top;\n",
       "    }\n",
       "\n",
       "    .dataframe thead th {\n",
       "        text-align: right;\n",
       "    }\n",
       "</style>\n",
       "<table border=\"1\" class=\"dataframe\">\n",
       "  <thead>\n",
       "    <tr style=\"text-align: right;\">\n",
       "      <th></th>\n",
       "      <th>y1</th>\n",
       "    </tr>\n",
       "  </thead>\n",
       "  <tbody>\n",
       "    <tr>\n",
       "      <th>0</th>\n",
       "      <td>6.902495</td>\n",
       "    </tr>\n",
       "    <tr>\n",
       "      <th>1</th>\n",
       "      <td>6.983727</td>\n",
       "    </tr>\n",
       "    <tr>\n",
       "      <th>2</th>\n",
       "      <td>7.130884</td>\n",
       "    </tr>\n",
       "    <tr>\n",
       "      <th>3</th>\n",
       "      <td>7.192002</td>\n",
       "    </tr>\n",
       "    <tr>\n",
       "      <th>4</th>\n",
       "      <td>8.427400</td>\n",
       "    </tr>\n",
       "  </tbody>\n",
       "</table>\n",
       "</div>"
      ],
      "text/plain": [
       "         y1\n",
       "0  6.902495\n",
       "1  6.983727\n",
       "2  7.130884\n",
       "3  7.192002\n",
       "4  8.427400"
      ]
     },
     "execution_count": 12,
     "metadata": {},
     "output_type": "execute_result"
    },
    {
     "data": {
      "image/png": "[encoded data removed]",
      "text/plain": [
       "<Figure size 432x288 with 1 Axes>"
      ]
     },
     "metadata": {
      "needs_background": "light"
     },
     "output_type": "display_data"
    }
   ],
   "source": [
    "#normalizing every column\n",
    "def log_scale_df_outputs():\n",
    "    '''\n",
    "    Returns the scaled df-output column(s) \n",
    "    Scaling the output columns using the log scaling formula\n",
    "    '''\n",
    "    df_norm=df_obj[col_names[nbr_inputs:]].copy()\n",
    "\n",
    "    for i in col_names[nbr_inputs:]:\n",
    "        col_min=df_obj[i].min()\n",
    "        df_norm[i]=np.log(df_obj[i]-col_min+1)\n",
    "    return df_norm\n",
    "\n",
    "df_log_scaled_out=log_scale_df_outputs()\n",
    "# density of outputs after log scaling\n",
    "df_log_scaled_out.plot.density() # blue\n",
    "df_log_scaled_out.head()"
   ]
  },
  {
   "cell_type": "code",
   "execution_count": 13,
   "id": "4d84df18",
   "metadata": {},
   "outputs": [],
   "source": [
    "#normalizing every column\n",
    "def log_descale(df_scaled):\n",
    "    '''\n",
    "    Returns the scaled df-output column(s) \n",
    "    Scaling the output columns using the log scaling formula\n",
    "    '''\n",
    "    #df_descaled=df_scaled[col_names[nbr_inputs:]].copy()\n",
    "    df_descaled=df_scaled.copy()\n",
    "\n",
    "    for i in col_names[nbr_inputs:]:\n",
    "        col_min=df_obj[i].min()\n",
    "        df_descaled=np.exp(df_scaled)+col_min-1\n",
    "    return df_descaled\n",
    "\n",
    "\n",
    "#df_log_descaled_y=log_descale(df_log_scaled_out)\n",
    "# density of outputs after log scaling\n",
    "#df_log_descaled_y.plot.density() # blue\n",
    "#df_log_descaled_y['y1'].head()"
   ]
  },
  {
   "cell_type": "code",
   "execution_count": 14,
   "id": "bdfd7003",
   "metadata": {},
   "outputs": [
    {
     "data": {
      "text/html": [
       "<div>\n",
       "<style scoped>\n",
       "    .dataframe tbody tr th:only-of-type {\n",
       "        vertical-align: middle;\n",
       "    }\n",
       "\n",
       "    .dataframe tbody tr th {\n",
       "        vertical-align: top;\n",
       "    }\n",
       "\n",
       "    .dataframe thead th {\n",
       "        text-align: right;\n",
       "    }\n",
       "</style>\n",
       "<table border=\"1\" class=\"dataframe\">\n",
       "  <thead>\n",
       "    <tr style=\"text-align: right;\">\n",
       "      <th></th>\n",
       "      <th>x1</th>\n",
       "      <th>x2</th>\n",
       "      <th>y1</th>\n",
       "    </tr>\n",
       "  </thead>\n",
       "  <tbody>\n",
       "    <tr>\n",
       "      <th>0</th>\n",
       "      <td>1.359179</td>\n",
       "      <td>-1.358905</td>\n",
       "      <td>-8.469386</td>\n",
       "    </tr>\n",
       "    <tr>\n",
       "      <th>1</th>\n",
       "      <td>2.078107</td>\n",
       "      <td>2.404094</td>\n",
       "      <td>75.708646</td>\n",
       "    </tr>\n",
       "    <tr>\n",
       "      <th>2</th>\n",
       "      <td>4.751854</td>\n",
       "      <td>3.595996</td>\n",
       "      <td>246.757964</td>\n",
       "    </tr>\n",
       "    <tr>\n",
       "      <th>3</th>\n",
       "      <td>-0.856865</td>\n",
       "      <td>4.033499</td>\n",
       "      <td>325.536752</td>\n",
       "    </tr>\n",
       "    <tr>\n",
       "      <th>4</th>\n",
       "      <td>1.401880</td>\n",
       "      <td>8.932142</td>\n",
       "      <td>3567.378260</td>\n",
       "    </tr>\n",
       "  </tbody>\n",
       "</table>\n",
       "</div>"
      ],
      "text/plain": [
       "         x1        x2           y1\n",
       "0  1.359179 -1.358905    -8.469386\n",
       "1  2.078107  2.404094    75.708646\n",
       "2  4.751854  3.595996   246.757964\n",
       "3 -0.856865  4.033499   325.536752\n",
       "4  1.401880  8.932142  3567.378260"
      ]
     },
     "execution_count": 14,
     "metadata": {},
     "output_type": "execute_result"
    }
   ],
   "source": [
    "df_obj.head()"
   ]
  },
  {
   "cell_type": "code",
   "execution_count": 15,
   "id": "85b3a38a",
   "metadata": {},
   "outputs": [
    {
     "data": {
      "text/html": [
       "<div>\n",
       "<style scoped>\n",
       "    .dataframe tbody tr th:only-of-type {\n",
       "        vertical-align: middle;\n",
       "    }\n",
       "\n",
       "    .dataframe tbody tr th {\n",
       "        vertical-align: top;\n",
       "    }\n",
       "\n",
       "    .dataframe thead th {\n",
       "        text-align: right;\n",
       "    }\n",
       "</style>\n",
       "<table border=\"1\" class=\"dataframe\">\n",
       "  <thead>\n",
       "    <tr style=\"text-align: right;\">\n",
       "      <th></th>\n",
       "      <th>x1</th>\n",
       "      <th>x2</th>\n",
       "      <th>y1</th>\n",
       "    </tr>\n",
       "  </thead>\n",
       "  <tbody>\n",
       "    <tr>\n",
       "      <th>count</th>\n",
       "      <td>5000.000000</td>\n",
       "      <td>5000.000000</td>\n",
       "      <td>5000.000000</td>\n",
       "    </tr>\n",
       "    <tr>\n",
       "      <th>mean</th>\n",
       "      <td>3.038644</td>\n",
       "      <td>3.014241</td>\n",
       "      <td>429.456107</td>\n",
       "    </tr>\n",
       "    <tr>\n",
       "      <th>std</th>\n",
       "      <td>2.443513</td>\n",
       "      <td>2.497653</td>\n",
       "      <td>744.260387</td>\n",
       "    </tr>\n",
       "    <tr>\n",
       "      <th>min</th>\n",
       "      <td>-7.896115</td>\n",
       "      <td>-5.858413</td>\n",
       "      <td>-1002.223397</td>\n",
       "    </tr>\n",
       "    <tr>\n",
       "      <th>25%</th>\n",
       "      <td>1.396896</td>\n",
       "      <td>1.334763</td>\n",
       "      <td>22.906857</td>\n",
       "    </tr>\n",
       "    <tr>\n",
       "      <th>50%</th>\n",
       "      <td>3.043238</td>\n",
       "      <td>3.025295</td>\n",
       "      <td>149.278742</td>\n",
       "    </tr>\n",
       "    <tr>\n",
       "      <th>75%</th>\n",
       "      <td>4.673055</td>\n",
       "      <td>4.651855</td>\n",
       "      <td>515.533333</td>\n",
       "    </tr>\n",
       "    <tr>\n",
       "      <th>max</th>\n",
       "      <td>12.652471</td>\n",
       "      <td>11.920050</td>\n",
       "      <td>8482.378793</td>\n",
       "    </tr>\n",
       "  </tbody>\n",
       "</table>\n",
       "</div>"
      ],
      "text/plain": [
       "                x1           x2           y1\n",
       "count  5000.000000  5000.000000  5000.000000\n",
       "mean      3.038644     3.014241   429.456107\n",
       "std       2.443513     2.497653   744.260387\n",
       "min      -7.896115    -5.858413 -1002.223397\n",
       "25%       1.396896     1.334763    22.906857\n",
       "50%       3.043238     3.025295   149.278742\n",
       "75%       4.673055     4.651855   515.533333\n",
       "max      12.652471    11.920050  8482.378793"
      ]
     },
     "execution_count": 15,
     "metadata": {},
     "output_type": "execute_result"
    }
   ],
   "source": [
    "df_obj.describe(percentiles=[.25, .5, .75])"
   ]
  },
  {
   "cell_type": "code",
   "execution_count": 16,
   "id": "f09f0fad",
   "metadata": {},
   "outputs": [
    {
     "data": {
      "text/plain": [
       "<AxesSubplot:ylabel='Density'>"
      ]
     },
     "execution_count": 16,
     "metadata": {},
     "output_type": "execute_result"
    },
    {
     "data": {
      "image/png": "[encoded data removed]",
      "text/plain": [
       "<Figure size 432x288 with 1 Axes>"
      ]
     },
     "metadata": {
      "needs_background": "light"
     },
     "output_type": "display_data"
    }
   ],
   "source": [
    "# Density of inputs\n",
    "df_obj['x1'].plot.density() # blue\n",
    "df_obj['x2'].plot.density() # red"
   ]
  },
  {
   "cell_type": "code",
   "execution_count": 17,
   "id": "ee46e74b",
   "metadata": {},
   "outputs": [
    {
     "data": {
      "text/plain": [
       "744.260387032677"
      ]
     },
     "execution_count": 17,
     "metadata": {},
     "output_type": "execute_result"
    },
    {
     "data": {
      "image/png": "[encoded data removed]",
      "text/plain": [
       "<Figure size 432x288 with 1 Axes>"
      ]
     },
     "metadata": {
      "needs_background": "light"
     },
     "output_type": "display_data"
    }
   ],
   "source": [
    "# Density of output(s)\n",
    "df_obj['y1'].plot.density() # blue\n",
    "df_obj['y1'].std()"
   ]
  },
  {
   "cell_type": "markdown",
   "id": "b1b24d98",
   "metadata": {},
   "source": []
  },
  {
   "cell_type": "code",
   "execution_count": 18,
   "id": "5c6af91b",
   "metadata": {
    "scrolled": true
   },
   "outputs": [
    {
     "data": {
      "image/png": "[encoded data removed]",
      "text/plain": [
       "<Figure size 432x288 with 1 Axes>"
      ]
     },
     "metadata": {
      "needs_background": "light"
     },
     "output_type": "display_data"
    }
   ],
   "source": [
    "features_set=col_names[:nbr_inputs]\n",
    "#blue\n",
    "plt.scatter(df_obj[col_names[0]], df_obj[col_names[nbr_inputs]])\n",
    "#red\n",
    "plt.scatter(df_obj[col_names[1]], df_obj[col_names[nbr_inputs]])\n",
    "\n",
    "#plt.scatter(x3, y)\n",
    "#plt.scatter(x4, y)\n",
    "plt.show()"
   ]
  },
  {
   "cell_type": "code",
   "execution_count": 19,
   "id": "174688f1",
   "metadata": {},
   "outputs": [
    {
     "data": {
      "text/plain": [
       "<matplotlib.collections.PathCollection at 0x7ffbed0365b0>"
      ]
     },
     "execution_count": 19,
     "metadata": {},
     "output_type": "execute_result"
    },
    {
     "data": {
      "image/png": "[encoded data removed]",
      "text/plain": [
       "<Figure size 432x288 with 1 Axes>"
      ]
     },
     "metadata": {
      "needs_background": "light"
     },
     "output_type": "display_data"
    }
   ],
   "source": [
    "#ax = plt.subplot(xlim=(-0.5,1), ylim=(-5,5))\n",
    "#blue\n",
    "plt.scatter(df_lin_scaled_in[col_names[0]], df_log_scaled_out[col_names[nbr_inputs]])\n",
    "#red\n",
    "plt.scatter(df_lin_scaled_in[col_names[1]], df_log_scaled_out[col_names[nbr_inputs]])"
   ]
  },
  {
   "cell_type": "code",
   "execution_count": 36,
   "id": "66c79a7b",
   "metadata": {},
   "outputs": [
    {
     "data": {
      "text/plain": [
       "pandas.core.frame.DataFrame"
      ]
     },
     "execution_count": 36,
     "metadata": {},
     "output_type": "execute_result"
    }
   ],
   "source": [
    "X=df_lin_scaled_in[features_set].copy()\n",
    "type(X)"
   ]
  },
  {
   "cell_type": "code",
   "execution_count": 21,
   "id": "1c95c58c",
   "metadata": {
    "scrolled": true
   },
   "outputs": [
    {
     "name": "stdout",
     "output_type": "stream",
     "text": [
      "9.15753036902276\n"
     ]
    },
    {
     "data": {
      "image/png": "[encoded data removed]",
      "text/plain": [
       "<Figure size 432x288 with 1 Axes>"
      ]
     },
     "metadata": {
      "needs_background": "light"
     },
     "output_type": "display_data"
    }
   ],
   "source": [
    "#plt.plot(df_norm['y1'])\n",
    "plt.plot(df_log_scaled_out['y1'])\n",
    "print(max(df_log_scaled_out['y1']))"
   ]
  },
  {
   "cell_type": "code",
   "execution_count": 37,
   "id": "5cf1674f",
   "metadata": {
    "scrolled": true
   },
   "outputs": [
    {
     "data": {
      "text/plain": [
       "pandas.core.series.Series"
      ]
     },
     "execution_count": 37,
     "metadata": {},
     "output_type": "execute_result"
    }
   ],
   "source": [
    "#df_y=df.pop('y').values\n",
    "df_y1=df_log_scaled_out['y1'].copy()\n",
    "\n",
    "type(df_y1)"
   ]
  },
  {
   "cell_type": "code",
   "execution_count": 29,
   "id": "06853653",
   "metadata": {},
   "outputs": [
    {
     "data": {
      "text/plain": [
       "array([[0.45041024, 0.2530876 , 0.10477551],\n",
       "       [0.48539698, 0.46474813, 0.11365074],\n",
       "       [0.61551527, 0.53179001, 0.13168516],\n",
       "       ...,\n",
       "       [0.58975967, 0.70995115, 0.27010308],\n",
       "       [0.66828542, 0.43496522, 0.11098725],\n",
       "       [0.45684172, 0.20753166, 0.10076218]])"
      ]
     },
     "execution_count": 29,
     "metadata": {},
     "output_type": "execute_result"
    }
   ],
   "source": [
    "# source: https://machinelearningmastery.com/how-to-improve-neural-network-stability-and-modeling-performance-with-data-scaling/\n",
    "\n",
    "# create scaler\n",
    "scaler = MinMaxScaler()\n",
    "# fit scaler on data\n",
    "scaler.fit(df_obj)\n",
    "# apply transform\n",
    "normalized_minmax = scaler.transform(df_obj)\n",
    "# inverse transform\n",
    "#inverse = scaler.inverse_transform(normalized)\n",
    "normalized_minmax\n",
    "\n",
    "\n",
    "\n",
    "# x_norm_minmax=np.empty([n_rows,nbr_inputs],dtype=float)\n",
    "# y_norm_minmax=np.empty([n_rows,nbr_outputs],dtype=float)\n",
    "# for i in normalized_minmax:\n",
    "#     #arr=np.empty((1,2),dtype=float)\n",
    "#     #arr[0,0]=normalized_minmax[i,0]\n",
    "#     #arr[0,1]=normalized_minmax[i,1]\n",
    "#     arr=[]\n",
    "#     arr=i[:nbr_inputs]\n",
    "#     x_norm_minmax=np.append(x_norm_minmax , arr , axis=0) \n",
    "#     y_norm_minmax=np.append(y_norm_minmax, i[-1])\n",
    "\n",
    "# x_norm_minmax.shape\n",
    "# #y_norm_minmax"
   ]
  },
  {
   "cell_type": "code",
   "execution_count": 38,
   "id": "55abad62",
   "metadata": {},
   "outputs": [],
   "source": [
    "X1_norm=normalized_minmax.T[0]\n",
    "X2_norm=normalized_minmax.T[1]\n",
    "X['x1']=X1_norm\n",
    "X['x2']=X2_norm\n",
    "df_y1=normalized_minmax.T[2]"
   ]
  },
  {
   "cell_type": "code",
   "execution_count": 39,
   "id": "15237994",
   "metadata": {
    "scrolled": true
   },
   "outputs": [],
   "source": [
    "# split the large dataset into train and test\n",
    "X_train, X_val, y_train, y_val = train_test_split(X, df_y1, test_size = 0.2, random_state=2)\n",
    "# Look at the shape of the outputs"
   ]
  },
  {
   "cell_type": "code",
   "execution_count": 40,
   "id": "f7c76b9f",
   "metadata": {},
   "outputs": [
    {
     "name": "stdout",
     "output_type": "stream",
     "text": [
      "(4000, 2)\n",
      "(4000,)\n",
      "(1000, 2)\n",
      "(1000,)\n"
     ]
    }
   ],
   "source": [
    "print(X_train.shape)\n",
    "print(y_train.shape)\n",
    "print(X_val.shape)\n",
    "print(y_val.shape)"
   ]
  },
  {
   "cell_type": "code",
   "execution_count": 50,
   "id": "2778384a",
   "metadata": {
    "scrolled": true
   },
   "outputs": [
    {
     "data": {
      "text/plain": [
       "1.0"
      ]
     },
     "execution_count": 50,
     "metadata": {},
     "output_type": "execute_result"
    }
   ],
   "source": [
    "max(y_train)"
   ]
  },
  {
   "cell_type": "code",
   "execution_count": 42,
   "id": "f3d91ae3",
   "metadata": {},
   "outputs": [
    {
     "name": "stdout",
     "output_type": "stream",
     "text": [
      "Epoch 1/5\n",
      " 51/125 [===========>..................] - ETA: 0s - loss: 0.0000e+00 - accuracy: 0.0000e+00 "
     ]
    },
    {
     "name": "stderr",
     "output_type": "stream",
     "text": [
      "2021-10-29 13:35:40.671529: W tensorflow/core/framework/op_kernel.cc:1692] OP_REQUIRES failed at sparse_xent_op.cc:114 : Invalid argument: Received a label value of 1 which is outside the valid range of [0, 1).  Label values: 0 0 1 0 0 0 0 0 0 0 0 0 0 0 0 0 0 0 0 0 0 0 0 0 0 0 0 0 0 0 0 0\n"
     ]
    },
    {
     "ename": "InvalidArgumentError",
     "evalue": " Received a label value of 1 which is outside the valid range of [0, 1).  Label values: 0 0 1 0 0 0 0 0 0 0 0 0 0 0 0 0 0 0 0 0 0 0 0 0 0 0 0 0 0 0 0 0\n\t [[node sparse_categorical_crossentropy/SparseSoftmaxCrossEntropyWithLogits/SparseSoftmaxCrossEntropyWithLogits (defined at var/folders/53/02cn8ff15sv08jy7_2fcpmw00000gn/T/ipykernel_48201/1127397154.py:11) ]] [Op:__inference_train_function_1538]\n\nFunction call stack:\ntrain_function\n",
     "output_type": "error",
     "traceback": [
      "\u001b[0;31m---------------------------------------------------------------------------\u001b[0m",
      "\u001b[0;31mInvalidArgumentError\u001b[0m                      Traceback (most recent call last)",
      "\u001b[0;32m/var/folders/53/02cn8ff15sv08jy7_2fcpmw00000gn/T/ipykernel_48201/1127397154.py\u001b[0m in \u001b[0;36m<module>\u001b[0;34m\u001b[0m\n\u001b[1;32m      9\u001b[0m         metrics=['accuracy'])\n\u001b[1;32m     10\u001b[0m \u001b[0;34m\u001b[0m\u001b[0m\n\u001b[0;32m---> 11\u001b[0;31m \u001b[0mquasi_opt\u001b[0m\u001b[0;34m.\u001b[0m\u001b[0mfit\u001b[0m\u001b[0;34m(\u001b[0m\u001b[0mX_train\u001b[0m\u001b[0;34m,\u001b[0m \u001b[0my_train\u001b[0m\u001b[0;34m,\u001b[0m \u001b[0mepochs\u001b[0m\u001b[0;34m=\u001b[0m\u001b[0;36m5\u001b[0m\u001b[0;34m)\u001b[0m\u001b[0;34m\u001b[0m\u001b[0;34m\u001b[0m\u001b[0m\n\u001b[0m",
      "\u001b[0;32m/Library/Frameworks/Python.framework/Versions/3.8/lib/python3.8/site-packages/keras/engine/training.py\u001b[0m in \u001b[0;36mfit\u001b[0;34m(self, x, y, batch_size, epochs, verbose, callbacks, validation_split, validation_data, shuffle, class_weight, sample_weight, initial_epoch, steps_per_epoch, validation_steps, validation_batch_size, validation_freq, max_queue_size, workers, use_multiprocessing)\u001b[0m\n\u001b[1;32m   1182\u001b[0m                 _r=1):\n\u001b[1;32m   1183\u001b[0m               \u001b[0mcallbacks\u001b[0m\u001b[0;34m.\u001b[0m\u001b[0mon_train_batch_begin\u001b[0m\u001b[0;34m(\u001b[0m\u001b[0mstep\u001b[0m\u001b[0;34m)\u001b[0m\u001b[0;34m\u001b[0m\u001b[0;34m\u001b[0m\u001b[0m\n\u001b[0;32m-> 1184\u001b[0;31m               \u001b[0mtmp_logs\u001b[0m \u001b[0;34m=\u001b[0m \u001b[0mself\u001b[0m\u001b[0;34m.\u001b[0m\u001b[0mtrain_function\u001b[0m\u001b[0;34m(\u001b[0m\u001b[0miterator\u001b[0m\u001b[0;34m)\u001b[0m\u001b[0;34m\u001b[0m\u001b[0;34m\u001b[0m\u001b[0m\n\u001b[0m\u001b[1;32m   1185\u001b[0m               \u001b[0;32mif\u001b[0m \u001b[0mdata_handler\u001b[0m\u001b[0;34m.\u001b[0m\u001b[0mshould_sync\u001b[0m\u001b[0;34m:\u001b[0m\u001b[0;34m\u001b[0m\u001b[0;34m\u001b[0m\u001b[0m\n\u001b[1;32m   1186\u001b[0m                 \u001b[0mcontext\u001b[0m\u001b[0;34m.\u001b[0m\u001b[0masync_wait\u001b[0m\u001b[0;34m(\u001b[0m\u001b[0;34m)\u001b[0m\u001b[0;34m\u001b[0m\u001b[0;34m\u001b[0m\u001b[0m\n",
      "\u001b[0;32m/Library/Frameworks/Python.framework/Versions/3.8/lib/python3.8/site-packages/tensorflow/python/eager/def_function.py\u001b[0m in \u001b[0;36m__call__\u001b[0;34m(self, *args, **kwds)\u001b[0m\n\u001b[1;32m    883\u001b[0m \u001b[0;34m\u001b[0m\u001b[0m\n\u001b[1;32m    884\u001b[0m       \u001b[0;32mwith\u001b[0m \u001b[0mOptionalXlaContext\u001b[0m\u001b[0;34m(\u001b[0m\u001b[0mself\u001b[0m\u001b[0;34m.\u001b[0m\u001b[0m_jit_compile\u001b[0m\u001b[0;34m)\u001b[0m\u001b[0;34m:\u001b[0m\u001b[0;34m\u001b[0m\u001b[0;34m\u001b[0m\u001b[0m\n\u001b[0;32m--> 885\u001b[0;31m         \u001b[0mresult\u001b[0m \u001b[0;34m=\u001b[0m \u001b[0mself\u001b[0m\u001b[0;34m.\u001b[0m\u001b[0m_call\u001b[0m\u001b[0;34m(\u001b[0m\u001b[0;34m*\u001b[0m\u001b[0margs\u001b[0m\u001b[0;34m,\u001b[0m \u001b[0;34m**\u001b[0m\u001b[0mkwds\u001b[0m\u001b[0;34m)\u001b[0m\u001b[0;34m\u001b[0m\u001b[0;34m\u001b[0m\u001b[0m\n\u001b[0m\u001b[1;32m    886\u001b[0m \u001b[0;34m\u001b[0m\u001b[0m\n\u001b[1;32m    887\u001b[0m       \u001b[0mnew_tracing_count\u001b[0m \u001b[0;34m=\u001b[0m \u001b[0mself\u001b[0m\u001b[0;34m.\u001b[0m\u001b[0mexperimental_get_tracing_count\u001b[0m\u001b[0;34m(\u001b[0m\u001b[0;34m)\u001b[0m\u001b[0;34m\u001b[0m\u001b[0;34m\u001b[0m\u001b[0m\n",
      "\u001b[0;32m/Library/Frameworks/Python.framework/Versions/3.8/lib/python3.8/site-packages/tensorflow/python/eager/def_function.py\u001b[0m in \u001b[0;36m_call\u001b[0;34m(self, *args, **kwds)\u001b[0m\n\u001b[1;32m    915\u001b[0m       \u001b[0;31m# In this case we have created variables on the first call, so we run the\u001b[0m\u001b[0;34m\u001b[0m\u001b[0;34m\u001b[0m\u001b[0;34m\u001b[0m\u001b[0m\n\u001b[1;32m    916\u001b[0m       \u001b[0;31m# defunned version which is guaranteed to never create variables.\u001b[0m\u001b[0;34m\u001b[0m\u001b[0;34m\u001b[0m\u001b[0;34m\u001b[0m\u001b[0m\n\u001b[0;32m--> 917\u001b[0;31m       \u001b[0;32mreturn\u001b[0m \u001b[0mself\u001b[0m\u001b[0;34m.\u001b[0m\u001b[0m_stateless_fn\u001b[0m\u001b[0;34m(\u001b[0m\u001b[0;34m*\u001b[0m\u001b[0margs\u001b[0m\u001b[0;34m,\u001b[0m \u001b[0;34m**\u001b[0m\u001b[0mkwds\u001b[0m\u001b[0;34m)\u001b[0m  \u001b[0;31m# pylint: disable=not-callable\u001b[0m\u001b[0;34m\u001b[0m\u001b[0;34m\u001b[0m\u001b[0m\n\u001b[0m\u001b[1;32m    918\u001b[0m     \u001b[0;32melif\u001b[0m \u001b[0mself\u001b[0m\u001b[0;34m.\u001b[0m\u001b[0m_stateful_fn\u001b[0m \u001b[0;32mis\u001b[0m \u001b[0;32mnot\u001b[0m \u001b[0;32mNone\u001b[0m\u001b[0;34m:\u001b[0m\u001b[0;34m\u001b[0m\u001b[0;34m\u001b[0m\u001b[0m\n\u001b[1;32m    919\u001b[0m       \u001b[0;31m# Release the lock early so that multiple threads can perform the call\u001b[0m\u001b[0;34m\u001b[0m\u001b[0;34m\u001b[0m\u001b[0;34m\u001b[0m\u001b[0m\n",
      "\u001b[0;32m/Library/Frameworks/Python.framework/Versions/3.8/lib/python3.8/site-packages/tensorflow/python/eager/function.py\u001b[0m in \u001b[0;36m__call__\u001b[0;34m(self, *args, **kwargs)\u001b[0m\n\u001b[1;32m   3037\u001b[0m       (graph_function,\n\u001b[1;32m   3038\u001b[0m        filtered_flat_args) = self._maybe_define_function(args, kwargs)\n\u001b[0;32m-> 3039\u001b[0;31m     return graph_function._call_flat(\n\u001b[0m\u001b[1;32m   3040\u001b[0m         filtered_flat_args, captured_inputs=graph_function.captured_inputs)  # pylint: disable=protected-access\n\u001b[1;32m   3041\u001b[0m \u001b[0;34m\u001b[0m\u001b[0m\n",
      "\u001b[0;32m/Library/Frameworks/Python.framework/Versions/3.8/lib/python3.8/site-packages/tensorflow/python/eager/function.py\u001b[0m in \u001b[0;36m_call_flat\u001b[0;34m(self, args, captured_inputs, cancellation_manager)\u001b[0m\n\u001b[1;32m   1961\u001b[0m         and executing_eagerly):\n\u001b[1;32m   1962\u001b[0m       \u001b[0;31m# No tape is watching; skip to running the function.\u001b[0m\u001b[0;34m\u001b[0m\u001b[0;34m\u001b[0m\u001b[0;34m\u001b[0m\u001b[0m\n\u001b[0;32m-> 1963\u001b[0;31m       return self._build_call_outputs(self._inference_function.call(\n\u001b[0m\u001b[1;32m   1964\u001b[0m           ctx, args, cancellation_manager=cancellation_manager))\n\u001b[1;32m   1965\u001b[0m     forward_backward = self._select_forward_and_backward_functions(\n",
      "\u001b[0;32m/Library/Frameworks/Python.framework/Versions/3.8/lib/python3.8/site-packages/tensorflow/python/eager/function.py\u001b[0m in \u001b[0;36mcall\u001b[0;34m(self, ctx, args, cancellation_manager)\u001b[0m\n\u001b[1;32m    589\u001b[0m       \u001b[0;32mwith\u001b[0m \u001b[0m_InterpolateFunctionError\u001b[0m\u001b[0;34m(\u001b[0m\u001b[0mself\u001b[0m\u001b[0;34m)\u001b[0m\u001b[0;34m:\u001b[0m\u001b[0;34m\u001b[0m\u001b[0;34m\u001b[0m\u001b[0m\n\u001b[1;32m    590\u001b[0m         \u001b[0;32mif\u001b[0m \u001b[0mcancellation_manager\u001b[0m \u001b[0;32mis\u001b[0m \u001b[0;32mNone\u001b[0m\u001b[0;34m:\u001b[0m\u001b[0;34m\u001b[0m\u001b[0;34m\u001b[0m\u001b[0m\n\u001b[0;32m--> 591\u001b[0;31m           outputs = execute.execute(\n\u001b[0m\u001b[1;32m    592\u001b[0m               \u001b[0mstr\u001b[0m\u001b[0;34m(\u001b[0m\u001b[0mself\u001b[0m\u001b[0;34m.\u001b[0m\u001b[0msignature\u001b[0m\u001b[0;34m.\u001b[0m\u001b[0mname\u001b[0m\u001b[0;34m)\u001b[0m\u001b[0;34m,\u001b[0m\u001b[0;34m\u001b[0m\u001b[0;34m\u001b[0m\u001b[0m\n\u001b[1;32m    593\u001b[0m               \u001b[0mnum_outputs\u001b[0m\u001b[0;34m=\u001b[0m\u001b[0mself\u001b[0m\u001b[0;34m.\u001b[0m\u001b[0m_num_outputs\u001b[0m\u001b[0;34m,\u001b[0m\u001b[0;34m\u001b[0m\u001b[0;34m\u001b[0m\u001b[0m\n",
      "\u001b[0;32m/Library/Frameworks/Python.framework/Versions/3.8/lib/python3.8/site-packages/tensorflow/python/eager/execute.py\u001b[0m in \u001b[0;36mquick_execute\u001b[0;34m(op_name, num_outputs, inputs, attrs, ctx, name)\u001b[0m\n\u001b[1;32m     57\u001b[0m   \u001b[0;32mtry\u001b[0m\u001b[0;34m:\u001b[0m\u001b[0;34m\u001b[0m\u001b[0;34m\u001b[0m\u001b[0m\n\u001b[1;32m     58\u001b[0m     \u001b[0mctx\u001b[0m\u001b[0;34m.\u001b[0m\u001b[0mensure_initialized\u001b[0m\u001b[0;34m(\u001b[0m\u001b[0;34m)\u001b[0m\u001b[0;34m\u001b[0m\u001b[0;34m\u001b[0m\u001b[0m\n\u001b[0;32m---> 59\u001b[0;31m     tensors = pywrap_tfe.TFE_Py_Execute(ctx._handle, device_name, op_name,\n\u001b[0m\u001b[1;32m     60\u001b[0m                                         inputs, attrs, num_outputs)\n\u001b[1;32m     61\u001b[0m   \u001b[0;32mexcept\u001b[0m \u001b[0mcore\u001b[0m\u001b[0;34m.\u001b[0m\u001b[0m_NotOkStatusException\u001b[0m \u001b[0;32mas\u001b[0m \u001b[0me\u001b[0m\u001b[0;34m:\u001b[0m\u001b[0;34m\u001b[0m\u001b[0;34m\u001b[0m\u001b[0m\n",
      "\u001b[0;31mInvalidArgumentError\u001b[0m:  Received a label value of 1 which is outside the valid range of [0, 1).  Label values: 0 0 1 0 0 0 0 0 0 0 0 0 0 0 0 0 0 0 0 0 0 0 0 0 0 0 0 0 0 0 0 0\n\t [[node sparse_categorical_crossentropy/SparseSoftmaxCrossEntropyWithLogits/SparseSoftmaxCrossEntropyWithLogits (defined at var/folders/53/02cn8ff15sv08jy7_2fcpmw00000gn/T/ipykernel_48201/1127397154.py:11) ]] [Op:__inference_train_function_1538]\n\nFunction call stack:\ntrain_function\n"
     ]
    }
   ],
   "source": [
    "quasi_opt = models.Sequential([\n",
    "        layers.Dense(10, activation='relu'),\n",
    "        layers.Dense(10, activation='relu'),\n",
    "        layers.Dense(1)\n",
    "    ])\n",
    "\n",
    "quasi_opt.compile(optimizer='SGD', \n",
    "        loss='sparse_categorical_crossentropy',\n",
    "        metrics=['accuracy'])\n",
    "\n",
    "quasi_opt.fit(X_train, y_train, epochs=5)"
   ]
  },
  {
   "cell_type": "markdown",
   "id": "af86565f",
   "metadata": {},
   "source": []
  },
  {
   "cell_type": "code",
   "execution_count": 46,
   "id": "e1e6eec2",
   "metadata": {
    "scrolled": true
   },
   "outputs": [],
   "source": [
    "#http://neupy.com/modules/generated/neupy.algorithms.QuasiNewton.html#neupy.algorithms.QuasiNewton\n",
    "quasi_opt = algorithms.QuasiNewton(Input(2) >> Sigmoid(3) >> Sigmoid(1),update_function='bfgs')\n"
   ]
  },
  {
   "cell_type": "code",
   "execution_count": 47,
   "id": "a627d18a",
   "metadata": {},
   "outputs": [],
   "source": [
    "quasi_opt.train(X_train, y_train, epochs=10)"
   ]
  },
  {
   "cell_type": "code",
   "execution_count": 58,
   "id": "ffd4af41",
   "metadata": {},
   "outputs": [
    {
     "name": "stdout",
     "output_type": "stream",
     "text": [
      "[0.13147262 0.31143817 0.11450979 0.21315078 0.1190522  0.10805172\n",
      " 0.20998533 0.17321121 0.10558346 0.17765898 0.11947778 0.2176038\n",
      " 0.10905926 0.25666172 0.11277035 0.14642431 0.2364564  0.10845732\n",
      " 0.15359881 0.10802103 0.09876696 0.11916325 0.11153213 0.20318974\n",
      " 0.14573242 0.35444858 0.33773288 0.10342006 0.10601089 0.1057061\n",
      " 0.10469323 0.1725422  0.12698217 0.10860106 0.15293857 0.12423173\n",
      " 0.20695677 0.10739808 0.104845   0.24485811 0.12252862 0.10811427\n",
      " 0.10899514 0.17669463 0.10594298 0.11857    0.13701895 0.11261164\n",
      " 0.18372834 0.12223749 0.11221089 0.11712315 0.31663765 0.10828862\n",
      " 0.116784   0.10715554 0.1063592  0.22386418 0.12708786 0.15879315\n",
      " 0.12205211 0.23511062 0.20954921 0.11820794 0.10715915 0.10608511\n",
      " 0.1359495  0.11337571 0.0854275  0.10611022 0.13450709 0.11493648\n",
      " 0.26652044 0.1130323  0.16050736 0.10652031 0.1055652  0.23372892\n",
      " 0.10756636 0.20452767 0.10623891 0.10791565 0.10645134 0.10618512\n",
      " 0.1635312  0.10707391 0.21203351 0.16205376 0.15920239 0.12541097\n",
      " 0.12446816 0.12779491 0.17407959 0.13404221 0.99391945 0.24612297\n",
      " 0.11052602 0.12760441 0.15687801 0.17300494 0.13883155 0.10704438\n",
      " 0.22455222 0.20054635 0.14758952 0.13930028 0.10922908 0.14885546\n",
      " 0.14971974 0.13410978 0.10738686 0.12885227 0.10714185 0.2976299\n",
      " 0.1270513  0.16260465 0.12484587 0.151097   0.11269184 0.13910804\n",
      " 0.10785826 0.18773723 0.3155309  0.13558031 0.10942486 0.71887743\n",
      " 0.24237709 0.2000584  0.10592112 0.10859075 0.09494627 0.22240264\n",
      " 0.10418946 0.10737266 0.15915576 0.11355333 0.26401585 0.15765881\n",
      " 0.10602152 0.10781941 0.13696598 0.13108436 0.10644401 0.25687318\n",
      " 0.10493962 0.14806496 0.1515597  0.27660436 0.12666663 0.20061638\n",
      " 0.12106264 0.14004856 0.08615395 0.10938677 0.13783976 0.16934439\n",
      " 0.1125777  0.10808451 0.15428994 0.19908962 0.11640691 0.11633381\n",
      " 0.12384284 0.16928044 0.12358033 0.1313127  0.1273018  0.17052019\n",
      " 0.1082206  0.1087083  0.10138207 0.11961623 0.16979298 0.12169981\n",
      " 0.13847582 0.14069486 0.19652965 0.19602058 0.20761457 0.10677433\n",
      " 0.1117286  0.10790775 0.17812239 0.10764179 0.17000508 0.12071663\n",
      " 0.13357494 0.11096105 0.10784788 0.1356368  0.11306442 0.15960031\n",
      " 0.13671531 0.17144489 0.11941751 0.10491801 0.15353729 0.14110507\n",
      " 0.22785041 0.10681748 0.11371294 0.11951093 0.17870462 0.15202308\n",
      " 0.14565098 0.12183268 0.11008221 0.12067727 0.10749908 0.12416677\n",
      " 0.10966764 0.10618377 0.27266544 0.10832325 0.23362726 0.11160139\n",
      " 0.15401299 0.10725177 0.11106194 0.10985617 0.10747516 0.1595793\n",
      " 0.36415638 0.11930427 0.10462681 0.46052889 0.11252935 0.11042109\n",
      " 0.11498439 0.16090929 0.10589999 0.10986711 0.13157665 0.2221409\n",
      " 0.14241743 0.10874601 0.10638263 0.10600514 0.10701065 0.17480055\n",
      " 0.11396061 0.1150607  0.1063438  0.16833076 0.20644493 0.26550212\n",
      " 0.10476443 0.10587537 0.27499572 0.10944596 0.13485415 0.10842859\n",
      " 0.10869654 0.10855639 0.10776801 0.27494321 0.06616119 0.43216109\n",
      " 0.1108448  0.1617707  0.12586073 0.27915461 0.12666267 0.12250084\n",
      " 0.12021661 0.3078113  0.10786878 0.15516092 0.12612856 0.17888707\n",
      " 0.12681608 0.10769112 0.23141871 0.18116526 0.10836321 0.10889598\n",
      " 0.10730722 0.13909872 0.1559905  0.1061048  0.11101602 0.1259805\n",
      " 0.11972192 0.11070551 0.12251001 0.1573449  0.14770753 0.10880882\n",
      " 0.11450449 0.17099348 0.16298468 0.10839118 0.12334629 0.10734313\n",
      " 0.17028087 0.10987037 0.10631582 0.10571023 0.36623774 0.11220206\n",
      " 0.14662701 0.10924508 0.1964234  0.2717022  0.10438732 0.13409405\n",
      " 0.13281412 0.10918006 0.10625887 0.1068102  0.30539551 0.08975794\n",
      " 0.14615563 0.12237141 0.10932182 0.27408878 0.11289848 0.16412888\n",
      " 0.1629177  0.21391102 0.14135949 0.10592369 0.11541903 0.1052802\n",
      " 0.1819649  0.11544154 0.11148719 0.12625647 0.10517726 0.14273525\n",
      " 0.11989389 0.10745848 0.16055251 0.11936837 0.1068203  0.19982615\n",
      " 0.10615823 0.12443347 0.30566113 0.14881923 0.26503746 0.12033216\n",
      " 0.1083354  0.10912588 0.10660873 0.1142154  0.21036795 0.10707567\n",
      " 0.10754988 0.11525879 0.28769788 0.11646384 0.19474648 0.07578782\n",
      " 0.15344099 0.14586007 0.10834744 0.11455216 0.26222454 0.11016643\n",
      " 0.16839577 0.12879928 0.11174787 0.10476481 0.11348386 0.19375658\n",
      " 0.1147647  0.20559742 0.15108454 0.10743685 0.14108884 0.54183202\n",
      " 0.12187279 0.17856484 0.10745556 0.11347208 0.10625842 0.10714724\n",
      " 0.11553728 0.55903966 0.09818022 0.19721999 0.25176469 0.11513831\n",
      " 0.28179509 0.11836318 0.13253964 0.14798457 0.12188084 0.1763867\n",
      " 0.10703708 0.17702754 0.1260874  0.11517209 0.12463588 0.11244399\n",
      " 0.10590718 0.26651831 0.13504501 0.10590322 0.11992034 0.11903827\n",
      " 0.23589553 0.11805934 0.15992917 0.20540565 0.11045597 0.11456223\n",
      " 0.14423939 0.51308691 0.13752653 0.13277062 0.10719201 0.12284274\n",
      " 0.11720914 0.1523395  0.13568327 0.21314814 0.18592431 0.13788621\n",
      " 0.10791255 0.14907814 0.10790793 0.17109489 0.10512456 0.13125018\n",
      " 0.13285252 0.17994336 0.14003978 0.32921857 0.10729908 0.11202924\n",
      " 0.11823103 0.10859535 0.10771496 0.26650424 0.12013327 0.10686049\n",
      " 0.18758243 0.11897537 0.11497099 0.12190234 0.10787482 0.11077257\n",
      " 0.12300062 0.18547051 0.10840178 0.15408754 0.11314723 0.10977535\n",
      " 0.15147557 0.14458652 0.3491218  0.12609781 0.13549495 0.12091389\n",
      " 0.10666269 0.20117178 0.13631574 0.18572219 0.10978584 0.20002508\n",
      " 0.38088951 0.16085872 0.15870903 0.2021405  0.26922857 0.10719771\n",
      " 0.10745055 0.12056181 0.13780911 0.10817136 0.20174187 0.10076218\n",
      " 0.11310056 0.20166424 0.28607435 0.08325329 0.10765136 0.04233437\n",
      " 0.1086797  0.24230626 0.1308637  0.22005139 0.11715553 0.10691212\n",
      " 0.17060803 0.15516515 0.10673426 0.10543383 0.11801461 0.11066084\n",
      " 0.10644948 0.1240361  0.26188948 0.10822952 0.11509153 0.12556056\n",
      " 0.19667851 0.12148008 0.14167315 0.10799681 0.13949924 0.12338107\n",
      " 0.21122168 0.11581944 0.14874322 0.15324558 0.29465735 0.24013973\n",
      " 0.10804049 0.182789   0.31253034 0.17971126 0.1301943  0.1260034\n",
      " 0.27785462 0.1181552  0.16227467 0.15776411 0.10691162 0.16218006\n",
      " 0.13777268 0.10899056 0.11375632 0.10593045 0.10915434 0.11891414\n",
      " 0.10528537 0.11542005 0.11334936 0.14350007 0.13031057 0.15269572\n",
      " 0.10732087 0.12485759 0.13394209 0.20587797 0.17284536 0.11244741\n",
      " 0.11097658 0.25233181 0.23385621 0.12048808 0.18827793 0.10665215\n",
      " 0.13501477 0.11306651 0.10972223 0.11578655 0.11988756 0.19662871\n",
      " 0.1391303  0.1029977  0.10559502 0.10711036 0.13122149 0.1084037\n",
      " 0.11145416 0.10711088 0.09499724 0.19329756 0.21965693 0.23273849\n",
      " 0.1066966  0.10586632 0.12888859 0.35118884 0.11963509 0.15482204\n",
      " 0.12163313 0.11861288 0.17268148 0.12239705 0.10671574 0.10568729\n",
      " 0.25730741 0.27017699 0.17938312 0.14466437 0.1285003  0.11666251\n",
      " 0.10432979 0.12808795 0.10656345 0.11460161 0.10368266 0.11628691\n",
      " 0.12912474 0.10038613 0.16590901 0.13954959 0.10783085 0.10788861\n",
      " 0.22704465 0.1224376  0.22286985 0.10612685 0.10691054 0.11424537\n",
      " 0.29282686 0.10747285 0.22374461 0.13039128 0.11828554 0.12766321\n",
      " 0.72188374 0.10466643 0.1343493  0.10597108 0.19317882 0.10678135\n",
      " 0.71564149 0.10771349 0.13431384 0.15553776 0.11505006 0.13999113\n",
      " 0.27638652 0.11614761 0.10889917 0.11426645 0.10648889 0.11631799\n",
      " 0.11053646 0.10644285 0.10775278 0.72942633 0.1193105  0.13698452\n",
      " 0.10714591 0.1179154  0.1727815  0.11309913 0.10700678 0.11604773\n",
      " 0.10906666 0.19018886 0.23848654 0.10815406 0.16836145 0.13272759\n",
      " 0.10650096 0.11132421 0.10690015 0.10632653 0.11070857 0.12129349\n",
      " 0.17767615 0.13484583 0.1418381  0.37095731 0.1118453  0.10554362\n",
      " 0.10711731 0.10699039 0.10614755 0.26789184 0.10953898 0.23948865\n",
      " 0.10597617 0.104184   0.15304451 0.1143831  0.2343466  0.10544799\n",
      " 0.10969909 0.116065   0.10593556 0.27176989 0.13724353 0.11646017\n",
      " 0.11496684 0.10790309 0.11865848 0.11623082 0.14051824 0.10548441\n",
      " 0.10839168 0.11540647 0.10742368 0.18482888 0.33053902 0.19411684\n",
      " 0.1301805  0.18997022 0.15514958 0.10899145 0.11086238 0.15673648\n",
      " 0.12167602 0.33275989 0.10732608 0.10644679 0.10599449 0.13498225\n",
      " 0.10843729 0.10506823 0.10681487 0.12582768 0.14250114 0.31424052\n",
      " 0.13937761 0.23235923 0.10694413 0.2461755  0.34465085 0.10663142\n",
      " 0.19155513 0.10825818 0.1225995  0.10871968 0.10789615 0.13317153\n",
      " 0.13440417 0.10853509 0.10899881 0.10836718 0.21043879 0.22297192\n",
      " 0.1211026  0.15498326 0.10399733 0.1197948  0.10737927 0.11415965\n",
      " 0.42301192 0.10809777 0.11371365 0.56881388 0.10672972 0.10692211\n",
      " 0.12766327 0.27389785 0.10660277 0.10809761 0.34374933 0.11606528\n",
      " 0.26107192 0.10601061 0.77432593 0.13175797 0.15403033 0.25249281\n",
      " 0.11365927 0.12394831 0.18627003 0.11399    0.10641207 0.28795978\n",
      " 0.10693291 0.11379645 0.21899821 0.17869477 0.14771172 0.24877656\n",
      " 0.10608579 0.10748257 0.39440487 0.12006857 0.14846098 0.10907652\n",
      " 0.11444363 0.23633455 0.10774992 0.12546394 0.10733224 0.20278974\n",
      " 0.13559681 0.10585827 0.10937562 0.1908533  0.12416167 0.11397788\n",
      " 0.20624829 0.10773799 0.10675425 0.2233217  0.11296018 0.62591348\n",
      " 0.31777207 0.12086619 0.10956746 0.11318599 0.13871578 0.10737111\n",
      " 0.1163704  0.10630387 0.26873995 0.14252867 0.16029009 0.11934047\n",
      " 0.1072309  0.24859898 0.09168864 0.18386491 0.12324254 0.1069136\n",
      " 0.10546648 0.15417745 0.18835455 0.20984817 0.11364373 0.21810835\n",
      " 0.11140431 0.16007271 0.2377466  0.10971624 0.10798227 0.17301007\n",
      " 0.13036089 0.10692227 0.08667423 0.14359474 0.11689331 0.16854651\n",
      " 0.12644868 0.10615616 0.12438067 0.11740938 0.10766996 0.09363415\n",
      " 0.10622372 0.19406259 0.10674714 0.105883   0.11257635 0.21235532\n",
      " 0.20733233 0.35711639 0.23158673 0.10643561 0.11905235 0.12558458\n",
      " 0.11016872 0.11726784 0.17492707 0.10570688 0.33045976 0.12333839\n",
      " 0.11995002 0.09928249 0.10482776 0.13928635 0.11920245 0.10747342\n",
      " 0.18164793 0.13315729 0.19153935 0.16230549 0.1168347  0.4817916\n",
      " 0.11774476 0.12348679 0.11009549 0.11322325 0.11633827 0.12286994\n",
      " 0.22159719 0.11179097 0.24858886 0.10564353 0.28375592 0.17251209\n",
      " 0.13707227 0.14028954 0.1052109  0.11000638 0.11243255 0.13168516\n",
      " 0.10920669 0.10901859 0.10515898 0.10555141 0.11033615 0.15326171\n",
      " 0.12876805 0.11300211 0.10714359 0.08898345 0.2325259  0.10882591\n",
      " 0.44082562 0.11009643 0.23352159 0.31481787 0.16474997 0.35046932\n",
      " 0.11397489 0.12326871 0.10714951 0.13358514 0.22614397 0.18371595\n",
      " 0.27250692 0.11236758 0.1222214  0.22330668 0.10625544 0.19578155\n",
      " 0.11234243 0.1068006  0.10627901 0.10745311 0.10937865 0.28273707\n",
      " 0.1167804  0.23714159 0.11389985 0.11269915 0.17120709 0.15915603\n",
      " 0.16818752 0.11204765 0.14136955 0.10738468 0.11356047 0.13356405\n",
      " 0.10585022 0.11357575 0.10965644 0.11570626 0.11120948 0.1082957\n",
      " 0.10894243 0.11458486 0.11727122 0.10708331 0.15316591 0.36131906\n",
      " 0.12035225 0.17182816 0.10770651 0.11902313 0.15543149 0.11528651\n",
      " 0.12370498 0.12002547 0.25287809 0.12142678 0.22296631 0.17002447\n",
      " 0.10693292 0.12899036 0.13013186 0.12165398 0.14367606 0.24056086\n",
      " 0.16990259 0.10466187 0.10720608 0.10683215 0.10769584 0.10705137\n",
      " 0.10796592 0.1076226  0.10843788 0.1535252  0.1101551  0.10752903\n",
      " 0.16669773 0.15380179 0.12445507 0.10740704 0.3523842  0.18340589\n",
      " 0.11771398 0.10596112 0.11880641 0.10995612 0.12405458 0.17708109\n",
      " 0.10747696 0.0923789  0.10943975 0.17933187 0.10661708 0.17564022\n",
      " 0.13600582 0.11532844 0.2599543  0.09018218 0.11325927 0.14971267\n",
      " 0.12319316 0.11325208 0.13320618 0.10734886 0.23721265 0.10497102\n",
      " 0.55500146 0.19527211 0.13737864 0.10668066 0.20361688 0.17701155\n",
      " 0.39397545 0.52604627 0.10635807 0.29068608]\n"
     ]
    }
   ],
   "source": [
    "print(y_val)"
   ]
  },
  {
   "cell_type": "code",
   "execution_count": 49,
   "id": "bf0d8353",
   "metadata": {},
   "outputs": [],
   "source": [
    "clf_quasi_train= quasi_opt.fit(X_train, y_train)\n",
    "clf_quasi_val = quasi_opt.fit(X_val, y_val)"
   ]
  },
  {
   "cell_type": "code",
   "execution_count": 51,
   "id": "be548416",
   "metadata": {},
   "outputs": [],
   "source": [
    "y_pred=quasi_opt.predict(X_val)\n",
    "#y_pred=quasi_opt.predict(df_lin_descaled_x)"
   ]
  },
  {
   "cell_type": "code",
   "execution_count": 54,
   "id": "e091a031",
   "metadata": {},
   "outputs": [
    {
     "data": {
      "text/plain": [
       "array([0.87066041])"
      ]
     },
     "execution_count": 54,
     "metadata": {},
     "output_type": "execute_result"
    }
   ],
   "source": [
    "#unique, counts = np.unique(y_pred, return_counts=True)\n",
    "#print(np.asarray((unique, counts)))\n",
    "min(y_pred)\n",
    "max(y_pred)"
   ]
  },
  {
   "cell_type": "code",
   "execution_count": null,
   "id": "67a030a0",
   "metadata": {},
   "outputs": [],
   "source": [
    "#descale x\n",
    "#df_lin_descaled_x=lin_descale(X_val)\n",
    "#descale y\n",
    "#df_log_descaled_y=log_descale(y_val)"
   ]
  },
  {
   "cell_type": "code",
   "execution_count": null,
   "id": "acd74a5a",
   "metadata": {},
   "outputs": [],
   "source": [
    "#y_pred_descaled=log_descale(y_pred)"
   ]
  },
  {
   "cell_type": "code",
   "execution_count": 133,
   "id": "c391e436",
   "metadata": {},
   "outputs": [],
   "source": [
    "#\n",
    "# print(\"y_pred max:\",max(y_pred_descaled),\"y_pred min:\",min(y_pred_descaled),\"y_val max:\",max(df_log_descaled_y))"
   ]
  },
  {
   "cell_type": "code",
   "execution_count": 136,
   "id": "32681b12",
   "metadata": {},
   "outputs": [
    {
     "data": {
      "text/plain": [
       "{'network_inputs': [layer:input-2/var:input],\n",
       " 'network_output': algo:network/var:network-output,\n",
       " 'step': algo:network/scalar:step,\n",
       " 'epoch': algo:network/scalar:epoch,\n",
       " 'prediction_func': sigmoid.0,\n",
       " 'train_prediction_func': sigmoid.0,\n",
       " 'error_func': mean,\n",
       " 'validation_error_func': mean,\n",
       " 'inv_hessian': algo:quasi-newton/matrix:inv-hessian,\n",
       " 'prev_params': algo:quasi-newton/vector:prev-params,\n",
       " 'prev_full_gradient': algo:quasi-newton/vector:prev-full-gradient}"
      ]
     },
     "execution_count": 136,
     "metadata": {},
     "output_type": "execute_result"
    }
   ],
   "source": [
    "#for (layer, varname),variable in quasi_opt.variables.items():\n",
    "#    print(layer.name, varname, variable.shape)\n",
    "\n",
    "quasi_opt.variables.get()"
   ]
  },
  {
   "cell_type": "code",
   "execution_count": 56,
   "id": "01361611",
   "metadata": {},
   "outputs": [
    {
     "data": {
      "text/plain": [
       "[array(0.12660103),\n",
       " array(0.07728656),\n",
       " array(0.01064268),\n",
       " array(0.00760855),\n",
       " array(0.00658691),\n",
       " array(0.00649588),\n",
       " array(0.00649088),\n",
       " array(0.0064897),\n",
       " array(0.00648346),\n",
       " array(0.00647048),\n",
       " array(0.00643416),\n",
       " array(0.00634541),\n",
       " array(0.00612164),\n",
       " array(0.00556206),\n",
       " array(0.00498116),\n",
       " array(0.00487621),\n",
       " array(0.00481942),\n",
       " array(0.00474093),\n",
       " array(0.00472309),\n",
       " array(0.00471913),\n",
       " array(0.00471701),\n",
       " array(0.00470427),\n",
       " array(0.00467846),\n",
       " array(0.00460565),\n",
       " array(0.00442197),\n",
       " array(0.0038279),\n",
       " array(0.00242544),\n",
       " array(0.00228592),\n",
       " array(0.00219601),\n",
       " array(0.00217618),\n",
       " array(0.00217462),\n",
       " array(0.00217317),\n",
       " array(0.00216085),\n",
       " array(0.00213696),\n",
       " array(0.00205317),\n",
       " array(0.00195974),\n",
       " array(0.00193719),\n",
       " array(0.00190477),\n",
       " array(0.00189112),\n",
       " array(0.00188373),\n",
       " array(0.00186485),\n",
       " array(0.00182827),\n",
       " array(0.00179153),\n",
       " array(0.00171007),\n",
       " array(0.00163824),\n",
       " array(0.00154175),\n",
       " array(0.0013388),\n",
       " array(0.00109579),\n",
       " array(0.00082761),\n",
       " array(0.0006283),\n",
       " array(0.00046979),\n",
       " array(0.00041304),\n",
       " array(0.00037623),\n",
       " array(0.00036099),\n",
       " array(0.00033988),\n",
       " array(0.0003232),\n",
       " array(0.00030937),\n",
       " array(0.00029773),\n",
       " array(0.00029166),\n",
       " array(0.00028608),\n",
       " array(0.00027514),\n",
       " array(0.00021366),\n",
       " array(0.00020295),\n",
       " array(0.00019413),\n",
       " array(0.00018227),\n",
       " array(0.00016235),\n",
       " array(0.00013525),\n",
       " array(0.00012757),\n",
       " array(0.00012448),\n",
       " array(0.00012247),\n",
       " array(0.00012205),\n",
       " array(0.00012199),\n",
       " array(0.00012194),\n",
       " array(0.00012191),\n",
       " array(0.00012186),\n",
       " array(0.00012174),\n",
       " array(0.00012142),\n",
       " array(0.00012063),\n",
       " array(0.00011874),\n",
       " array(0.00011487),\n",
       " array(0.0001078),\n",
       " array(9.72840442e-05),\n",
       " array(8.61115394e-05),\n",
       " array(7.61638694e-05),\n",
       " array(6.90687657e-05),\n",
       " array(6.56790084e-05),\n",
       " array(6.16095208e-05),\n",
       " array(5.87519078e-05),\n",
       " array(5.58250781e-05),\n",
       " array(5.21859862e-05),\n",
       " array(5.00026324e-05),\n",
       " array(4.80048032e-05),\n",
       " array(4.63315142e-05),\n",
       " array(4.43464706e-05),\n",
       " array(4.30629454e-05),\n",
       " array(4.21846954e-05),\n",
       " array(4.14131146e-05),\n",
       " array(4.10230206e-05),\n",
       " array(4.07233121e-05),\n",
       " array(4.02739874e-05),\n",
       " array(3.96572457e-05),\n",
       " array(3.94442112e-05),\n",
       " array(3.92658718e-05),\n",
       " array(3.91432086e-05),\n",
       " array(3.9063606e-05),\n",
       " array(3.90138197e-05),\n",
       " array(3.88537157e-05),\n",
       " array(3.88041285e-05),\n",
       " array(3.86774665e-05),\n",
       " array(3.86599328e-05),\n",
       " array(4.67608797e-05),\n",
       " array(4.66837735e-05),\n",
       " array(4.62658325e-05),\n",
       " array(4.59523693e-05),\n",
       " array(4.57645374e-05),\n",
       " array(4.55583035e-05),\n",
       " array(4.5450736e-05),\n",
       " array(4.52659798e-05),\n",
       " array(4.52306078e-05),\n",
       " array(4.51980787e-05),\n",
       " array(4.51610434e-05),\n",
       " array(4.51300647e-05),\n",
       " array(4.51011342e-05),\n",
       " array(4.50722713e-05),\n",
       " array(4.50670287e-05),\n",
       " array(4.50562627e-05),\n",
       " array(4.50536742e-05),\n",
       " array(4.50522136e-05),\n",
       " array(4.50513016e-05),\n",
       " array(4.50511538e-05),\n",
       " array(4.5051085e-05),\n",
       " array(4.50510537e-05),\n",
       " array(4.50509853e-05),\n",
       " array(4.50508377e-05),\n",
       " array(4.50504525e-05),\n",
       " array(4.50495027e-05),\n",
       " array(4.50470551e-05),\n",
       " array(4.5040993e-05),\n",
       " array(4.5025517e-05),\n",
       " array(4.50187583e-05),\n",
       " array(4.49799285e-05),\n",
       " array(4.48583865e-05),\n",
       " array(4.48225645e-05),\n",
       " array(4.46986152e-05),\n",
       " array(4.46168568e-05),\n",
       " array(4.45748101e-05),\n",
       " array(4.45408561e-05),\n",
       " array(4.4460674e-05),\n",
       " array(4.44213183e-05),\n",
       " array(4.44022047e-05),\n",
       " array(4.43798198e-05),\n",
       " array(4.43665329e-05),\n",
       " array(4.43606426e-05),\n",
       " array(4.4358054e-05),\n",
       " array(4.43559422e-05),\n",
       " array(4.4354873e-05),\n",
       " array(4.43533803e-05),\n",
       " array(4.43518973e-05),\n",
       " array(4.43475962e-05),\n",
       " array(4.43380986e-05),\n",
       " array(4.43193455e-05),\n",
       " array(4.42935266e-05),\n",
       " array(4.42740835e-05),\n",
       " array(4.42615939e-05),\n",
       " array(4.42451788e-05),\n",
       " array(4.42371221e-05),\n",
       " array(4.42107264e-05),\n",
       " array(4.41938309e-05),\n",
       " array(4.41714201e-05),\n",
       " array(4.4133821e-05),\n",
       " array(4.40941436e-05),\n",
       " array(4.40598869e-05),\n",
       " array(4.40116484e-05),\n",
       " array(4.40614467e-05),\n",
       " array(4.39385296e-05),\n",
       " array(4.3901171e-05),\n",
       " array(4.40195477e-05),\n",
       " array(4.38648294e-05),\n",
       " array(4.38424752e-05),\n",
       " array(4.38057466e-05),\n",
       " array(4.38799706e-05),\n",
       " array(4.37753669e-05),\n",
       " array(4.37570483e-05),\n",
       " array(4.37302342e-05),\n",
       " array(4.37059299e-05),\n",
       " array(4.36773099e-05),\n",
       " array(4.36366032e-05),\n",
       " array(4.36207953e-05),\n",
       " array(4.36078209e-05),\n",
       " array(4.35922296e-05),\n",
       " array(4.35868345e-05),\n",
       " array(4.35831782e-05),\n",
       " array(4.35811874e-05),\n",
       " array(4.35794562e-05),\n",
       " array(4.3578483e-05),\n",
       " array(4.35780909e-05),\n",
       " array(4.35780742e-05),\n",
       " array(4.35780712e-05),\n",
       " array(4.3578069e-05),\n",
       " array(4.35780658e-05),\n",
       " array(4.35780619e-05),\n",
       " array(4.35780579e-05),\n",
       " array(4.35780523e-05),\n",
       " array(4.35780407e-05),\n",
       " array(4.3578012e-05),\n",
       " array(4.35779378e-05),\n",
       " array(4.3577744e-05),\n",
       " array(4.35772358e-05),\n",
       " array(4.35759003e-05),\n",
       " array(4.35723928e-05)]"
      ]
     },
     "execution_count": 56,
     "metadata": {},
     "output_type": "execute_result"
    }
   ],
   "source": [
    "quasi_opt.train_errors"
   ]
  },
  {
   "cell_type": "code",
   "execution_count": 60,
   "id": "97b60faf",
   "metadata": {},
   "outputs": [
    {
     "data": {
      "text/plain": [
       "<matplotlib.collections.PathCollection at 0x7ffbf28f3ac0>"
      ]
     },
     "execution_count": 60,
     "metadata": {},
     "output_type": "execute_result"
    },
    {
     "data": {
      "image/png": "[encoded data removed]",
      "text/plain": [
       "<Figure size 432x288 with 1 Axes>"
      ]
     },
     "metadata": {
      "needs_background": "light"
     },
     "output_type": "display_data"
    }
   ],
   "source": [
    "plt.scatter(X_val['x1'],y_val,color='blue')\n",
    "plt.scatter(X_val['x1'],y_pred,color='red')\n",
    "#plt.scatter(df_lin_descaled_x['x1'],y_pred_descaled,color='green')"
   ]
  },
  {
   "cell_type": "code",
   "execution_count": 84,
   "id": "4ae1805c",
   "metadata": {},
   "outputs": [
    {
     "data": {
      "text/plain": [
       "<matplotlib.collections.PathCollection at 0x7ffbf3e8a9d0>"
      ]
     },
     "execution_count": 84,
     "metadata": {},
     "output_type": "execute_result"
    },
    {
     "data": {
      "image/png": "[encoded data removed]",
      "text/plain": [
       "<Figure size 432x288 with 1 Axes>"
      ]
     },
     "metadata": {
      "needs_background": "light"
     },
     "output_type": "display_data"
    }
   ],
   "source": [
    "plt.scatter(X_val['x2'],y_val,color='blue')\n",
    "plt.scatter(X_val['x2'],y_pred,color='red')\n",
    "#plt.scatter(df_lin_descaled_x['x2'],y_pred_descaled,color='green')"
   ]
  },
  {
   "cell_type": "code",
   "execution_count": 85,
   "id": "7e9bbee0",
   "metadata": {},
   "outputs": [
    {
     "data": {
      "text/plain": [
       "{'network_inputs': [layer:input-2/var:input],\n",
       " 'network_output': algo:network/var:network-output,\n",
       " 'step': algo:network/scalar:step,\n",
       " 'epoch': algo:network/scalar:epoch,\n",
       " 'prediction_func': sigmoid.0,\n",
       " 'train_prediction_func': sigmoid.0,\n",
       " 'error_func': mean,\n",
       " 'validation_error_func': mean,\n",
       " 'inv_hessian': algo:quasi-newton/matrix:inv-hessian,\n",
       " 'prev_params': algo:quasi-newton/vector:prev-params,\n",
       " 'prev_full_gradient': algo:quasi-newton/vector:prev-full-gradient}"
      ]
     },
     "execution_count": 85,
     "metadata": {},
     "output_type": "execute_result"
    }
   ],
   "source": [
    "quasi_opt.variables"
   ]
  },
  {
   "cell_type": "code",
   "execution_count": 79,
   "id": "2abb1bf2",
   "metadata": {},
   "outputs": [
    {
     "data": {
      "text/plain": [
       "[<matplotlib.lines.Line2D at 0x7ffbf3f09c10>]"
      ]
     },
     "execution_count": 79,
     "metadata": {},
     "output_type": "execute_result"
    },
    {
     "data": {
      "image/png": "[encoded data removed]",
      "text/plain": [
       "<Figure size 432x288 with 1 Axes>"
      ]
     },
     "metadata": {
      "needs_background": "light"
     },
     "output_type": "display_data"
    }
   ],
   "source": [
    "plt.plot(quasi_opt.errors)"
   ]
  },
  {
   "cell_type": "markdown",
   "id": "b799c630",
   "metadata": {},
   "source": []
  },
  {
   "cell_type": "code",
   "execution_count": 145,
   "id": "18c0595c",
   "metadata": {},
   "outputs": [
    {
     "data": {
      "text/plain": [
       "array(0.01421902)"
      ]
     },
     "execution_count": 145,
     "metadata": {},
     "output_type": "execute_result"
    }
   ],
   "source": [
    "#mean of the train errors\n",
    "quasi_opt.error(y_val,y_pred).eval()"
   ]
  },
  {
   "cell_type": "code",
   "execution_count": 106,
   "id": "c843b301",
   "metadata": {},
   "outputs": [],
   "source": [
    "df_pred=X_val.copy()\n",
    "df_pred['y1']=y_pred.copy()\n",
    "\n",
    "df_val=X_val.copy()\n",
    "df_val['y1']=y_val.copy()\n",
    "\n",
    "df_train=X_train.copy()\n",
    "df_train['y1']=y_train.copy()\n",
    "\n",
    "inverse_pred_t = scaler.inverse_transform(df_pred)\n",
    "inverse_val_t = scaler.inverse_transform(df_val)\n",
    "inverse_train_t = scaler.inverse_transform(df_train)\n"
   ]
  },
  {
   "cell_type": "code",
   "execution_count": 107,
   "id": "38290cdd",
   "metadata": {},
   "outputs": [],
   "source": [
    "inverse_pred=inverse_pred_t.T\n",
    "inverse_val=inverse_val_t.T\n",
    "inverse_train=inverse_train_t.T"
   ]
  },
  {
   "cell_type": "code",
   "execution_count": 109,
   "id": "9ce1e75f",
   "metadata": {},
   "outputs": [
    {
     "data": {
      "text/plain": [
       "<matplotlib.collections.PathCollection at 0x7ffbf11bcca0>"
      ]
     },
     "execution_count": 109,
     "metadata": {},
     "output_type": "execute_result"
    },
    {
     "data": {
      "image/png": "[encoded data removed]",
      "text/plain": [
       "<Figure size 432x288 with 1 Axes>"
      ]
     },
     "metadata": {
      "needs_background": "light"
     },
     "output_type": "display_data"
    }
   ],
   "source": [
    "plt.scatter(inverse_val[0],inverse_val[2],color='blue')\n",
    "plt.scatter(inverse_pred[0],inverse_pred[2],color='red')"
   ]
  },
  {
   "cell_type": "code",
   "execution_count": 113,
   "id": "b74db3d4",
   "metadata": {},
   "outputs": [
    {
     "data": {
      "text/plain": [
       "<matplotlib.collections.PathCollection at 0x7ffbf36c8fd0>"
      ]
     },
     "execution_count": 113,
     "metadata": {},
     "output_type": "execute_result"
    },
    {
     "data": {
      "image/png": "[encoded data removed]",
      "text/plain": [
       "<Figure size 432x288 with 1 Axes>"
      ]
     },
     "metadata": {
      "needs_background": "light"
     },
     "output_type": "display_data"
    }
   ],
   "source": [
    "plt.scatter(inverse_val[1],inverse_val[2],color='blue')\n",
    "plt.scatter(inverse_pred[1],inverse_pred[2],color='red')"
   ]
  },
  {
   "cell_type": "code",
   "execution_count": 126,
   "id": "5b0bb0a1",
   "metadata": {},
   "outputs": [
    {
     "data": {
      "text/plain": [
       "mean"
      ]
     },
     "execution_count": 126,
     "metadata": {},
     "output_type": "execute_result"
    }
   ],
   "source": [
    "quasi_opt.error(inverse_val[2], inverse_pred[2])"
   ]
  },
  {
   "cell_type": "code",
   "execution_count": 131,
   "id": "515b971b",
   "metadata": {},
   "outputs": [
    {
     "data": {
      "text/plain": [
       "[array(0.12660103),\n",
       " array(0.07728656),\n",
       " array(0.01064268),\n",
       " array(0.00760855),\n",
       " array(0.00658691),\n",
       " array(0.00649588),\n",
       " array(0.00649088),\n",
       " array(0.0064897),\n",
       " array(0.00648346),\n",
       " array(0.00647048),\n",
       " array(0.00643416),\n",
       " array(0.00634541),\n",
       " array(0.00612164),\n",
       " array(0.00556206),\n",
       " array(0.00498116),\n",
       " array(0.00487621),\n",
       " array(0.00481942),\n",
       " array(0.00474093),\n",
       " array(0.00472309),\n",
       " array(0.00471913),\n",
       " array(0.00471701),\n",
       " array(0.00470427),\n",
       " array(0.00467846),\n",
       " array(0.00460565),\n",
       " array(0.00442197),\n",
       " array(0.0038279),\n",
       " array(0.00242544),\n",
       " array(0.00228592),\n",
       " array(0.00219601),\n",
       " array(0.00217618),\n",
       " array(0.00217462),\n",
       " array(0.00217317),\n",
       " array(0.00216085),\n",
       " array(0.00213696),\n",
       " array(0.00205317),\n",
       " array(0.00195974),\n",
       " array(0.00193719),\n",
       " array(0.00190477),\n",
       " array(0.00189112),\n",
       " array(0.00188373),\n",
       " array(0.00186485),\n",
       " array(0.00182827),\n",
       " array(0.00179153),\n",
       " array(0.00171007),\n",
       " array(0.00163824),\n",
       " array(0.00154175),\n",
       " array(0.0013388),\n",
       " array(0.00109579),\n",
       " array(0.00082761),\n",
       " array(0.0006283),\n",
       " array(0.00046979),\n",
       " array(0.00041304),\n",
       " array(0.00037623),\n",
       " array(0.00036099),\n",
       " array(0.00033988),\n",
       " array(0.0003232),\n",
       " array(0.00030937),\n",
       " array(0.00029773),\n",
       " array(0.00029166),\n",
       " array(0.00028608),\n",
       " array(0.00027514),\n",
       " array(0.00021366),\n",
       " array(0.00020295),\n",
       " array(0.00019413),\n",
       " array(0.00018227),\n",
       " array(0.00016235),\n",
       " array(0.00013525),\n",
       " array(0.00012757),\n",
       " array(0.00012448),\n",
       " array(0.00012247),\n",
       " array(0.00012205),\n",
       " array(0.00012199),\n",
       " array(0.00012194),\n",
       " array(0.00012191),\n",
       " array(0.00012186),\n",
       " array(0.00012174),\n",
       " array(0.00012142),\n",
       " array(0.00012063),\n",
       " array(0.00011874),\n",
       " array(0.00011487),\n",
       " array(0.0001078),\n",
       " array(9.72840442e-05),\n",
       " array(8.61115394e-05),\n",
       " array(7.61638694e-05),\n",
       " array(6.90687657e-05),\n",
       " array(6.56790084e-05),\n",
       " array(6.16095208e-05),\n",
       " array(5.87519078e-05),\n",
       " array(5.58250781e-05),\n",
       " array(5.21859862e-05),\n",
       " array(5.00026324e-05),\n",
       " array(4.80048032e-05),\n",
       " array(4.63315142e-05),\n",
       " array(4.43464706e-05),\n",
       " array(4.30629454e-05),\n",
       " array(4.21846954e-05),\n",
       " array(4.14131146e-05),\n",
       " array(4.10230206e-05),\n",
       " array(4.07233121e-05),\n",
       " array(4.02739874e-05),\n",
       " array(3.96572457e-05),\n",
       " array(3.94442112e-05),\n",
       " array(3.92658718e-05),\n",
       " array(3.91432086e-05),\n",
       " array(3.9063606e-05),\n",
       " array(3.90138197e-05),\n",
       " array(3.88537157e-05),\n",
       " array(3.88041285e-05),\n",
       " array(3.86774665e-05),\n",
       " array(3.86599328e-05),\n",
       " array(4.67608797e-05),\n",
       " array(4.66837735e-05),\n",
       " array(4.62658325e-05),\n",
       " array(4.59523693e-05),\n",
       " array(4.57645374e-05),\n",
       " array(4.55583035e-05),\n",
       " array(4.5450736e-05),\n",
       " array(4.52659798e-05),\n",
       " array(4.52306078e-05),\n",
       " array(4.51980787e-05),\n",
       " array(4.51610434e-05),\n",
       " array(4.51300647e-05),\n",
       " array(4.51011342e-05),\n",
       " array(4.50722713e-05),\n",
       " array(4.50670287e-05),\n",
       " array(4.50562627e-05),\n",
       " array(4.50536742e-05),\n",
       " array(4.50522136e-05),\n",
       " array(4.50513016e-05),\n",
       " array(4.50511538e-05),\n",
       " array(4.5051085e-05),\n",
       " array(4.50510537e-05),\n",
       " array(4.50509853e-05),\n",
       " array(4.50508377e-05),\n",
       " array(4.50504525e-05),\n",
       " array(4.50495027e-05),\n",
       " array(4.50470551e-05),\n",
       " array(4.5040993e-05),\n",
       " array(4.5025517e-05),\n",
       " array(4.50187583e-05),\n",
       " array(4.49799285e-05),\n",
       " array(4.48583865e-05),\n",
       " array(4.48225645e-05),\n",
       " array(4.46986152e-05),\n",
       " array(4.46168568e-05),\n",
       " array(4.45748101e-05),\n",
       " array(4.45408561e-05),\n",
       " array(4.4460674e-05),\n",
       " array(4.44213183e-05),\n",
       " array(4.44022047e-05),\n",
       " array(4.43798198e-05),\n",
       " array(4.43665329e-05),\n",
       " array(4.43606426e-05),\n",
       " array(4.4358054e-05),\n",
       " array(4.43559422e-05),\n",
       " array(4.4354873e-05),\n",
       " array(4.43533803e-05),\n",
       " array(4.43518973e-05),\n",
       " array(4.43475962e-05),\n",
       " array(4.43380986e-05),\n",
       " array(4.43193455e-05),\n",
       " array(4.42935266e-05),\n",
       " array(4.42740835e-05),\n",
       " array(4.42615939e-05),\n",
       " array(4.42451788e-05),\n",
       " array(4.42371221e-05),\n",
       " array(4.42107264e-05),\n",
       " array(4.41938309e-05),\n",
       " array(4.41714201e-05),\n",
       " array(4.4133821e-05),\n",
       " array(4.40941436e-05),\n",
       " array(4.40598869e-05),\n",
       " array(4.40116484e-05),\n",
       " array(4.40614467e-05),\n",
       " array(4.39385296e-05),\n",
       " array(4.3901171e-05),\n",
       " array(4.40195477e-05),\n",
       " array(4.38648294e-05),\n",
       " array(4.38424752e-05),\n",
       " array(4.38057466e-05),\n",
       " array(4.38799706e-05),\n",
       " array(4.37753669e-05),\n",
       " array(4.37570483e-05),\n",
       " array(4.37302342e-05),\n",
       " array(4.37059299e-05),\n",
       " array(4.36773099e-05),\n",
       " array(4.36366032e-05),\n",
       " array(4.36207953e-05),\n",
       " array(4.36078209e-05),\n",
       " array(4.35922296e-05),\n",
       " array(4.35868345e-05),\n",
       " array(4.35831782e-05),\n",
       " array(4.35811874e-05),\n",
       " array(4.35794562e-05),\n",
       " array(4.3578483e-05),\n",
       " array(4.35780909e-05),\n",
       " array(4.35780742e-05),\n",
       " array(4.35780712e-05),\n",
       " array(4.3578069e-05),\n",
       " array(4.35780658e-05),\n",
       " array(4.35780619e-05),\n",
       " array(4.35780579e-05),\n",
       " array(4.35780523e-05),\n",
       " array(4.35780407e-05),\n",
       " array(4.3578012e-05),\n",
       " array(4.35779378e-05),\n",
       " array(4.3577744e-05),\n",
       " array(4.35772358e-05),\n",
       " array(4.35759003e-05),\n",
       " array(4.35723928e-05)]"
      ]
     },
     "execution_count": 131,
     "metadata": {},
     "output_type": "execute_result"
    }
   ],
   "source": [
    "quasi_opt.errors"
   ]
  },
  {
   "cell_type": "code",
   "execution_count": null,
   "id": "092eee3c",
   "metadata": {},
   "outputs": [],
   "source": []
  }
 ],
 "metadata": {
  "interpreter": {
   "hash": "aee8b7b246df8f9039afb4144a1f6fd8d2ca17a180786b69acc140d282b71a49"
  },
  "kernelspec": {
   "display_name": "Python 3.8.2 64-bit",
   "name": "python3"
  },
  "language_info": {
   "codemirror_mode": {
    "name": "ipython",
    "version": 3
   },
   "file_extension": ".py",
   "mimetype": "text/x-python",
   "name": "python",
   "nbconvert_exporter": "python",
   "pygments_lexer": "ipython3",
   "version": "3.8.10"
  }
 },
 "nbformat": 4,
 "nbformat_minor": 5
}
